{
 "cells": [
  {
   "cell_type": "code",
   "execution_count": 56,
   "id": "2936e698",
   "metadata": {},
   "outputs": [
    {
     "name": "stdout",
     "output_type": "stream",
     "text": [
      "The autoreload extension is already loaded. To reload it, use:\n",
      "  %reload_ext autoreload\n"
     ]
    }
   ],
   "source": [
    "%load_ext autoreload\n",
    "%autoreload 2"
   ]
  },
  {
   "cell_type": "code",
   "execution_count": 57,
   "id": "47492459",
   "metadata": {},
   "outputs": [],
   "source": [
    "from quant_research.data_portal.eikon_loader import fetch_prices_volumes\n",
    "from quant_research.processing.clean_intraday import clean_to_rth\n",
    "from quant_research.data_portal.io import load_or_fetch_processed"
   ]
  },
  {
   "cell_type": "code",
   "execution_count": null,
   "id": "664e89b7",
   "metadata": {},
   "outputs": [
    {
     "name": "stderr",
     "output_type": "stream",
     "text": [
      "2025-08-10 00:57:43,722 P[3020] [MainThread 2472] Error with GOOG.O: No data available for the requested date range\n",
      "2025-08-10 00:57:43,723 P[3020] [MainThread 2472] GOOG.O: No data available for the requested date range | \n"
     ]
    },
    {
     "ename": "EikonError",
     "evalue": "Error code -1 | GOOG.O: No data available for the requested date range | ",
     "output_type": "error",
     "traceback": [
      "\u001b[31m---------------------------------------------------------------------------\u001b[39m",
      "\u001b[31mEikonError\u001b[39m                                Traceback (most recent call last)",
      "\u001b[36mCell\u001b[39m\u001b[36m \u001b[39m\u001b[32mIn[69]\u001b[39m\u001b[32m, line 1\u001b[39m\n\u001b[32m----> \u001b[39m\u001b[32m1\u001b[39m output = load_or_fetch_processed([\u001b[33m\"\u001b[39m\u001b[33mGOOG.O\u001b[39m\u001b[33m\"\u001b[39m], start=\u001b[33m\"\u001b[39m\u001b[33m2020-08-07\u001b[39m\u001b[33m\"\u001b[39m, end=\u001b[33m\"\u001b[39m\u001b[33m2025-08-07\u001b[39m\u001b[33m\"\u001b[39m)\n",
      "\u001b[36mFile \u001b[39m\u001b[32m~\\Desktop\\project\\trading\\src\\quant_research\\data_portal\\io.py:77\u001b[39m, in \u001b[36mload_or_fetch_processed\u001b[39m\u001b[34m(tickers, start, end, interval, force_refresh, save_raw)\u001b[39m\n\u001b[32m     74\u001b[39m     \u001b[38;5;28;01mcontinue\u001b[39;00m\n\u001b[32m     76\u001b[39m \u001b[38;5;66;03m# Fetch raw\u001b[39;00m\n\u001b[32m---> \u001b[39m\u001b[32m77\u001b[39m raw_prices, raw_volumes = fetch_prices_volumes(\n\u001b[32m     78\u001b[39m     [ticker], start=start, end=end, interval=interval\n\u001b[32m     79\u001b[39m )\n\u001b[32m     81\u001b[39m \u001b[38;5;66;03m# Optional: save raw for debugging\u001b[39;00m\n\u001b[32m     82\u001b[39m \u001b[38;5;28;01mif\u001b[39;00m save_raw:\n",
      "\u001b[36mFile \u001b[39m\u001b[32m<string>:28\u001b[39m, in \u001b[36mfetch_prices_volumes\u001b[39m\u001b[34m(tickers, start, end, interval, fields, chunk_days)\u001b[39m\n",
      "\u001b[36mFile \u001b[39m\u001b[32mc:\\Users\\derek\\anaconda3\\envs\\trading-research\\Lib\\site-packages\\eikon\\time_series.py:203\u001b[39m, in \u001b[36mget_timeseries\u001b[39m\u001b[34m(rics, fields, start_date, end_date, interval, count, calendar, corax, normalize, raw_output, debug)\u001b[39m\n\u001b[32m    201\u001b[39m     \u001b[38;5;28;01mif\u001b[39;00m \u001b[38;5;28mlen\u001b[39m(ts_status_errors) == \u001b[38;5;28mlen\u001b[39m(ts_timeseries_data):\n\u001b[32m    202\u001b[39m         logger.error(ts_error_messages)\n\u001b[32m--> \u001b[39m\u001b[32m203\u001b[39m         \u001b[38;5;28;01mraise\u001b[39;00m EikonError(-\u001b[32m1\u001b[39m, message=ts_error_messages)\n\u001b[32m    205\u001b[39m \u001b[38;5;28;01mif\u001b[39;00m raw_output:\n\u001b[32m    206\u001b[39m     \u001b[38;5;28;01mreturn\u001b[39;00m ts_result\n",
      "\u001b[31mEikonError\u001b[39m: Error code -1 | GOOG.O: No data available for the requested date range | "
     ]
    }
   ],
   "source": [
    "output = load_or_fetch_processed([\"GOOG.O\"], start=\"2020-08-07\", end=\"2025-08-07\")"
   ]
  },
  {
   "cell_type": "code",
   "execution_count": 62,
   "id": "3f2686e8",
   "metadata": {},
   "outputs": [],
   "source": [
    "prices, volume = output"
   ]
  },
  {
   "cell_type": "code",
   "execution_count": 63,
   "id": "976ec2bd",
   "metadata": {},
   "outputs": [],
   "source": [
    "from quant_research.models.moving_average import ma_crossover_signal\n",
    "\n",
    "ma_strat = ma_crossover_signal(prices[\"GOOG.O\"])"
   ]
  },
  {
   "cell_type": "code",
   "execution_count": 64,
   "id": "c13968c5",
   "metadata": {},
   "outputs": [
    {
     "data": {
      "application/vnd.microsoft.datawrangler.viewer.v0+json": {
       "columns": [
        {
         "name": "Date",
         "rawType": "datetime64[s, America/New_York]",
         "type": "unknown"
        },
        {
         "name": "0",
         "rawType": "float64",
         "type": "float"
        }
       ],
       "ref": "823cc947-0a3c-434b-82cb-8c37fc49bda7",
       "rows": [
        [
         "2024-08-12 00:00:00-04:00",
         "0.0"
        ],
        [
         "2024-08-13 00:00:00-04:00",
         "0.0"
        ],
        [
         "2024-08-14 00:00:00-04:00",
         "0.0"
        ],
        [
         "2024-08-15 00:00:00-04:00",
         "0.0"
        ],
        [
         "2024-08-16 00:00:00-04:00",
         "0.0"
        ],
        [
         "2024-08-19 00:00:00-04:00",
         "0.0"
        ],
        [
         "2024-08-20 00:00:00-04:00",
         "0.0"
        ],
        [
         "2024-08-21 00:00:00-04:00",
         "0.0"
        ],
        [
         "2024-08-22 00:00:00-04:00",
         "0.0"
        ],
        [
         "2024-08-23 00:00:00-04:00",
         "0.0"
        ],
        [
         "2024-08-26 00:00:00-04:00",
         "0.0"
        ],
        [
         "2024-08-27 00:00:00-04:00",
         "0.0"
        ],
        [
         "2024-08-28 00:00:00-04:00",
         "0.0"
        ],
        [
         "2024-08-29 00:00:00-04:00",
         "0.0"
        ],
        [
         "2024-08-30 00:00:00-04:00",
         "0.0"
        ],
        [
         "2024-09-03 00:00:00-04:00",
         "0.0"
        ],
        [
         "2024-09-04 00:00:00-04:00",
         "0.0"
        ],
        [
         "2024-09-05 00:00:00-04:00",
         "0.0"
        ],
        [
         "2024-09-06 00:00:00-04:00",
         "0.0"
        ],
        [
         "2024-09-09 00:00:00-04:00",
         "0.0"
        ],
        [
         "2024-09-10 00:00:00-04:00",
         "0.0"
        ],
        [
         "2024-09-11 00:00:00-04:00",
         "0.0"
        ],
        [
         "2024-09-12 00:00:00-04:00",
         "0.0"
        ],
        [
         "2024-09-13 00:00:00-04:00",
         "0.0"
        ],
        [
         "2024-09-16 00:00:00-04:00",
         "0.0"
        ],
        [
         "2024-09-17 00:00:00-04:00",
         "0.0"
        ],
        [
         "2024-09-18 00:00:00-04:00",
         "0.0"
        ],
        [
         "2024-09-19 00:00:00-04:00",
         "0.0"
        ],
        [
         "2024-09-20 00:00:00-04:00",
         "0.0"
        ],
        [
         "2024-09-23 00:00:00-04:00",
         "0.0"
        ],
        [
         "2024-09-24 00:00:00-04:00",
         "0.0"
        ],
        [
         "2024-09-25 00:00:00-04:00",
         "0.0"
        ],
        [
         "2024-09-26 00:00:00-04:00",
         "0.0"
        ],
        [
         "2024-09-27 00:00:00-04:00",
         "0.0"
        ],
        [
         "2024-09-30 00:00:00-04:00",
         "0.0"
        ],
        [
         "2024-10-01 00:00:00-04:00",
         "0.0"
        ],
        [
         "2024-10-02 00:00:00-04:00",
         "0.0"
        ],
        [
         "2024-10-03 00:00:00-04:00",
         "0.0"
        ],
        [
         "2024-10-04 00:00:00-04:00",
         "0.0"
        ],
        [
         "2024-10-07 00:00:00-04:00",
         "0.0"
        ],
        [
         "2024-10-08 00:00:00-04:00",
         "0.0"
        ],
        [
         "2024-10-09 00:00:00-04:00",
         "0.0"
        ],
        [
         "2024-10-10 00:00:00-04:00",
         "0.0"
        ],
        [
         "2024-10-11 00:00:00-04:00",
         "0.0"
        ],
        [
         "2024-10-14 00:00:00-04:00",
         "0.0"
        ],
        [
         "2024-10-15 00:00:00-04:00",
         "0.0"
        ],
        [
         "2024-10-16 00:00:00-04:00",
         "0.0"
        ],
        [
         "2024-10-17 00:00:00-04:00",
         "0.0"
        ],
        [
         "2024-10-18 00:00:00-04:00",
         "0.0"
        ],
        [
         "2024-10-21 00:00:00-04:00",
         "0.0"
        ]
       ],
       "shape": {
        "columns": 1,
        "rows": 247
       }
      },
      "text/plain": [
       "Date\n",
       "2024-08-12 00:00:00-04:00    0.0\n",
       "2024-08-13 00:00:00-04:00    0.0\n",
       "2024-08-14 00:00:00-04:00    0.0\n",
       "2024-08-15 00:00:00-04:00    0.0\n",
       "2024-08-16 00:00:00-04:00    0.0\n",
       "                            ... \n",
       "2025-07-31 00:00:00-04:00    1.0\n",
       "2025-08-01 00:00:00-04:00    1.0\n",
       "2025-08-04 00:00:00-04:00    1.0\n",
       "2025-08-05 00:00:00-04:00    1.0\n",
       "2025-08-06 00:00:00-04:00    1.0\n",
       "Length: 247, dtype: float64"
      ]
     },
     "execution_count": 64,
     "metadata": {},
     "output_type": "execute_result"
    }
   ],
   "source": [
    "ma_strat[0]"
   ]
  }
 ],
 "metadata": {
  "kernelspec": {
   "display_name": "trading-research",
   "language": "python",
   "name": "python3"
  },
  "language_info": {
   "codemirror_mode": {
    "name": "ipython",
    "version": 3
   },
   "file_extension": ".py",
   "mimetype": "text/x-python",
   "name": "python",
   "nbconvert_exporter": "python",
   "pygments_lexer": "ipython3",
   "version": "3.12.11"
  }
 },
 "nbformat": 4,
 "nbformat_minor": 5
}
